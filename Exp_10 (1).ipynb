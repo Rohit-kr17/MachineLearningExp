{
 "cells": [
  {
   "cell_type": "markdown",
   "metadata": {
    "id": "Xowdinir6TYX"
   },
   "source": [
    "**bold text**\n",
    "\n",
    " The objective is to discover the association rules based on support, confidence and lift respectively greater than equal to min_support, min_confidence and min_lift. See the code below.\n",
    "\n"
   ]
  },
  {
   "cell_type": "code",
   "execution_count": null,
   "metadata": {
    "id": "91Xjvx0RQ00k"
   },
   "outputs": [],
   "source": []
  },
  {
   "cell_type": "code",
   "execution_count": null,
   "metadata": {
    "id": "xAR18Ve24bhk"
   },
   "outputs": [],
   "source": [
    "pip install apyori"
   ]
  },
  {
   "cell_type": "code",
   "execution_count": null,
   "metadata": {
    "id": "YLU3Nbp92ZgC"
   },
   "outputs": [],
   "source": [
    "import pandas as pd\n",
    "from apyori import apriori\n"
   ]
  },
  {
   "cell_type": "code",
   "execution_count": null,
   "metadata": {
    "id": "lLIkl-wG2bls"
   },
   "outputs": [],
   "source": [
    "df = pd.read_csv('transaction.csv', header=None)\n"
   ]
  },
  {
   "cell_type": "code",
   "execution_count": null,
   "metadata": {
    "colab": {
     "base_uri": "https://localhost:8080/"
    },
    "id": "OyOpH7dS2hMM",
    "outputId": "2b2a3bb1-d7f4-4b69-c550-1e2a0681cb01"
   },
   "outputs": [
    {
     "name": "stdout",
     "output_type": "stream",
     "text": [
      "Display statistics: \n",
      "===================\n",
      "            0      1      2       3     4       5\n",
      "count      19     18     23      23    20      22\n",
      "unique      1      1      1       1     1       1\n",
      "top     Juice  Chips  Bread  Butter  Milk  Banana\n",
      "freq       19     18     23      23    20      22\n"
     ]
    }
   ],
   "source": [
    "print(\"Display statistics: \")\n",
    "print(\"===================\")\n",
    "print(df.describe())\n"
   ]
  },
  {
   "cell_type": "code",
   "execution_count": null,
   "metadata": {
    "colab": {
     "base_uri": "https://localhost:8080/"
    },
    "id": "gO9XjThv2kz_",
    "outputId": "ab910430-9e5d-49f6-fbae-60d6df188763"
   },
   "outputs": [
    {
     "name": "stdout",
     "output_type": "stream",
     "text": [
      "\n",
      "Shape: (30, 6)\n"
     ]
    }
   ],
   "source": [
    "print(\"\\nShape:\",df.shape)\n",
    "\n",
    "\n"
   ]
  },
  {
   "cell_type": "code",
   "execution_count": null,
   "metadata": {
    "id": "bYhXmwU92ujh"
   },
   "outputs": [],
   "source": [
    "# Step 5: Convert dataframe into a nested list\n",
    "database = []\n",
    "for i in range(0,30):\n",
    "    database.append([str(df.values[i,j]) for j in range(0,6)])\n",
    "\n",
    "# Step 6: Develop the Apriori model \n",
    "arm_rules = apriori(database, min_support=0.5, min_confidence=0.7, min_lift=1.2)\n",
    "arm_results = list((arm_rules))"
   ]
  },
  {
   "cell_type": "code",
   "execution_count": null,
   "metadata": {
    "colab": {
     "base_uri": "https://localhost:8080/"
    },
    "id": "1Y0542AL2tJ1",
    "outputId": "f681bb73-e08c-4e0b-c8fb-0de989c804dc"
   },
   "outputs": [
    {
     "name": "stdout",
     "output_type": "stream",
     "text": [
      "\n",
      "No. of rule(s): 1\n"
     ]
    }
   ],
   "source": [
    "# Step 7: Display the number of rule(s)\n",
    "print(\"\\nNo. of rule(s):\",len(arm_results))"
   ]
  },
  {
   "cell_type": "code",
   "execution_count": null,
   "metadata": {
    "colab": {
     "base_uri": "https://localhost:8080/"
    },
    "id": "nufa2Hxn2psB",
    "outputId": "53694c9e-eefb-4c47-91b0-79480dddd251"
   },
   "outputs": [
    {
     "name": "stdout",
     "output_type": "stream",
     "text": [
      "\n",
      "Results: \n",
      "========\n",
      "[RelationRecord(items=frozenset({'Bread', 'Milk', 'Butter'}), support=0.5, ordered_statistics=[OrderedStatistic(items_base=frozenset({'Bread', 'Milk'}), items_add=frozenset({'Butter'}), confidence=0.9375, lift=1.2228260869565217)])]\n"
     ]
    }
   ],
   "source": [
    "# Step 8: Display the rule(s)\n",
    "print(\"\\nResults: \")\n",
    "print(\"========\")\n",
    "print(arm_results)"
   ]
  }
 ],
 "metadata": {
  "colab": {
   "provenance": []
  },
  "kernelspec": {
   "display_name": "Python 3 (ipykernel)",
   "language": "python",
   "name": "python3"
  },
  "language_info": {
   "codemirror_mode": {
    "name": "ipython",
    "version": 3
   },
   "file_extension": ".py",
   "mimetype": "text/x-python",
   "name": "python",
   "nbconvert_exporter": "python",
   "pygments_lexer": "ipython3",
   "version": "3.9.12"
  }
 },
 "nbformat": 4,
 "nbformat_minor": 1
}
