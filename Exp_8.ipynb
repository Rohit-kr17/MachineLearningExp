{
 "cells": [
  {
   "cell_type": "markdown",
   "metadata": {
    "id": "ZK00QihNHxJK"
   },
   "source": [
    "To study about svm classifier.\n",
    "\n",
    "To select appropriate kernel for classification\n",
    "\n",
    "To predict a class for new instance of data"
   ]
  },
  {
   "cell_type": "code",
   "execution_count": 1,
   "metadata": {
    "id": "xrneRA7hHyY0"
   },
   "outputs": [],
   "source": [
    "import pandas as pd;\n",
    "import numpy as np\n",
    "import matplotlib.pyplot as plt"
   ]
  },
  {
   "cell_type": "code",
   "execution_count": 2,
   "metadata": {
    "colab": {
     "base_uri": "https://localhost:8080/",
     "height": 206
    },
    "id": "Fch9TniSJvXj",
    "outputId": "24b79b7c-781c-4aa0-cc89-fd8027f7bab6"
   },
   "outputs": [
    {
     "data": {
      "text/html": [
       "<div>\n",
       "<style scoped>\n",
       "    .dataframe tbody tr th:only-of-type {\n",
       "        vertical-align: middle;\n",
       "    }\n",
       "\n",
       "    .dataframe tbody tr th {\n",
       "        vertical-align: top;\n",
       "    }\n",
       "\n",
       "    .dataframe thead th {\n",
       "        text-align: right;\n",
       "    }\n",
       "</style>\n",
       "<table border=\"1\" class=\"dataframe\">\n",
       "  <thead>\n",
       "    <tr style=\"text-align: right;\">\n",
       "      <th></th>\n",
       "      <th>Species</th>\n",
       "      <th>Weight</th>\n",
       "      <th>Length1</th>\n",
       "      <th>Length2</th>\n",
       "      <th>Length3</th>\n",
       "      <th>Height</th>\n",
       "      <th>Width</th>\n",
       "    </tr>\n",
       "  </thead>\n",
       "  <tbody>\n",
       "    <tr>\n",
       "      <th>0</th>\n",
       "      <td>Bream</td>\n",
       "      <td>242.0</td>\n",
       "      <td>23.2</td>\n",
       "      <td>25.4</td>\n",
       "      <td>30.0</td>\n",
       "      <td>11.5200</td>\n",
       "      <td>4.0200</td>\n",
       "    </tr>\n",
       "    <tr>\n",
       "      <th>1</th>\n",
       "      <td>Bream</td>\n",
       "      <td>290.0</td>\n",
       "      <td>24.0</td>\n",
       "      <td>26.3</td>\n",
       "      <td>31.2</td>\n",
       "      <td>12.4800</td>\n",
       "      <td>4.3056</td>\n",
       "    </tr>\n",
       "    <tr>\n",
       "      <th>2</th>\n",
       "      <td>Bream</td>\n",
       "      <td>340.0</td>\n",
       "      <td>23.9</td>\n",
       "      <td>26.5</td>\n",
       "      <td>31.1</td>\n",
       "      <td>12.3778</td>\n",
       "      <td>4.6961</td>\n",
       "    </tr>\n",
       "    <tr>\n",
       "      <th>3</th>\n",
       "      <td>Bream</td>\n",
       "      <td>363.0</td>\n",
       "      <td>26.3</td>\n",
       "      <td>29.0</td>\n",
       "      <td>33.5</td>\n",
       "      <td>12.7300</td>\n",
       "      <td>4.4555</td>\n",
       "    </tr>\n",
       "    <tr>\n",
       "      <th>4</th>\n",
       "      <td>Bream</td>\n",
       "      <td>430.0</td>\n",
       "      <td>26.5</td>\n",
       "      <td>29.0</td>\n",
       "      <td>34.0</td>\n",
       "      <td>12.4440</td>\n",
       "      <td>5.1340</td>\n",
       "    </tr>\n",
       "  </tbody>\n",
       "</table>\n",
       "</div>"
      ],
      "text/plain": [
       "  Species  Weight  Length1  Length2  Length3   Height   Width\n",
       "0   Bream   242.0     23.2     25.4     30.0  11.5200  4.0200\n",
       "1   Bream   290.0     24.0     26.3     31.2  12.4800  4.3056\n",
       "2   Bream   340.0     23.9     26.5     31.1  12.3778  4.6961\n",
       "3   Bream   363.0     26.3     29.0     33.5  12.7300  4.4555\n",
       "4   Bream   430.0     26.5     29.0     34.0  12.4440  5.1340"
      ]
     },
     "execution_count": 2,
     "metadata": {},
     "output_type": "execute_result"
    }
   ],
   "source": [
    "df=pd.read_csv('D:\\PROGRAMING LANGUAGE\\Python\\Jupyter notebook\\CSV files\\Exp7_Fish.csv')\n",
    "df.head()"
   ]
  },
  {
   "cell_type": "code",
   "execution_count": 3,
   "metadata": {
    "colab": {
     "base_uri": "https://localhost:8080/"
    },
    "id": "G2TNw25_JvaL",
    "outputId": "e64a2352-eacc-49b0-90d4-a7605eba5b4e"
   },
   "outputs": [
    {
     "data": {
      "text/plain": [
       "(     Weight  Length1  Length2  Length3   Height   Width\n",
       " 0     242.0     23.2     25.4     30.0  11.5200  4.0200\n",
       " 1     290.0     24.0     26.3     31.2  12.4800  4.3056\n",
       " 2     340.0     23.9     26.5     31.1  12.3778  4.6961\n",
       " 3     363.0     26.3     29.0     33.5  12.7300  4.4555\n",
       " 4     430.0     26.5     29.0     34.0  12.4440  5.1340\n",
       " ..      ...      ...      ...      ...      ...     ...\n",
       " 154    12.2     11.5     12.2     13.4   2.0904  1.3936\n",
       " 155    13.4     11.7     12.4     13.5   2.4300  1.2690\n",
       " 156    12.2     12.1     13.0     13.8   2.2770  1.2558\n",
       " 157    19.7     13.2     14.3     15.2   2.8728  2.0672\n",
       " 158    19.9     13.8     15.0     16.2   2.9322  1.8792\n",
       " \n",
       " [159 rows x 6 columns],\n",
       " 0      Bream\n",
       " 1      Bream\n",
       " 2      Bream\n",
       " 3      Bream\n",
       " 4      Bream\n",
       "        ...  \n",
       " 154    Smelt\n",
       " 155    Smelt\n",
       " 156    Smelt\n",
       " 157    Smelt\n",
       " 158    Smelt\n",
       " Name: Species, Length: 159, dtype: object)"
      ]
     },
     "execution_count": 3,
     "metadata": {},
     "output_type": "execute_result"
    }
   ],
   "source": [
    "x=df.drop(['Species'],axis='columns')\n",
    "y=df.Species\n",
    "x,y"
   ]
  },
  {
   "cell_type": "code",
   "execution_count": 4,
   "metadata": {
    "id": "MMVKQs07Jvcv"
   },
   "outputs": [],
   "source": [
    "from sklearn.model_selection import train_test_split\n",
    "X_train, X_test, y_train, y_test = train_test_split(x, y, test_size= 0.2)"
   ]
  },
  {
   "cell_type": "code",
   "execution_count": 5,
   "metadata": {
    "colab": {
     "base_uri": "https://localhost:8080/"
    },
    "id": "tFkL01qO_eyw",
    "outputId": "176b5a09-77b4-44db-d5ac-993b43a7bf48"
   },
   "outputs": [
    {
     "data": {
      "text/plain": [
       "141         Pike\n",
       "67        Parkki\n",
       "95         Perch\n",
       "59     Whitefish\n",
       "54         Roach\n",
       "27         Bream\n",
       "73         Perch\n",
       "28         Bream\n",
       "45         Roach\n",
       "10         Bream\n",
       "16         Bream\n",
       "117        Perch\n",
       "69        Parkki\n",
       "146        Smelt\n",
       "17         Bream\n",
       "79         Perch\n",
       "36         Roach\n",
       "144         Pike\n",
       "158        Smelt\n",
       "107        Perch\n",
       "82         Perch\n",
       "110        Perch\n",
       "20         Bream\n",
       "60     Whitefish\n",
       "122        Perch\n",
       "152        Smelt\n",
       "53         Roach\n",
       "150        Smelt\n",
       "51         Roach\n",
       "14         Bream\n",
       "125        Perch\n",
       "15         Bream\n",
       "Name: Species, dtype: object"
      ]
     },
     "execution_count": 5,
     "metadata": {},
     "output_type": "execute_result"
    }
   ],
   "source": [
    "X_train\n",
    "X_test\n",
    "y_train\n",
    "y_test"
   ]
  },
  {
   "cell_type": "code",
   "execution_count": 6,
   "metadata": {
    "id": "c7Sjl6-P_yi5"
   },
   "outputs": [],
   "source": [
    "from sklearn import svm\n",
    "df= svm.SVC(kernel = 'linear')\n",
    "df.fit(X_train, y_train)\n",
    "y_predict = df.predict(X_test)"
   ]
  },
  {
   "cell_type": "code",
   "execution_count": 7,
   "metadata": {
    "id": "uxH6PU9pJvfA"
   },
   "outputs": [],
   "source": [
    "from sklearn.svm import SVC\n",
    "model = SVC(kernel = 'linear', C = 1)"
   ]
  },
  {
   "cell_type": "code",
   "execution_count": 8,
   "metadata": {
    "colab": {
     "base_uri": "https://localhost:8080/",
     "height": 74
    },
    "id": "9QqYW0ZIYNZ4",
    "outputId": "c869cb82-2516-4f42-d8fb-79fc27c77c40"
   },
   "outputs": [
    {
     "data": {
      "text/plain": [
       "SVC(C=1, kernel='linear')"
      ]
     },
     "execution_count": 8,
     "metadata": {},
     "output_type": "execute_result"
    }
   ],
   "source": [
    "model.fit(X_train, y_train)\n"
   ]
  },
  {
   "cell_type": "code",
   "execution_count": 9,
   "metadata": {
    "colab": {
     "base_uri": "https://localhost:8080/"
    },
    "id": "fb7robETYNcO",
    "outputId": "1bcd70dc-c59f-4b75-eb52-14a639cea85b"
   },
   "outputs": [
    {
     "data": {
      "text/plain": [
       "array(['Pike', 'Parkki', 'Perch', 'Perch', 'Whitefish', 'Bream', 'Perch',\n",
       "       'Bream', 'Roach', 'Bream', 'Bream', 'Perch', 'Parkki', 'Smelt',\n",
       "       'Bream', 'Perch', 'Roach', 'Pike', 'Smelt', 'Perch', 'Perch',\n",
       "       'Perch', 'Bream', 'Perch', 'Perch', 'Smelt', 'Whitefish', 'Smelt',\n",
       "       'Roach', 'Bream', 'Perch', 'Bream'], dtype=object)"
      ]
     },
     "execution_count": 9,
     "metadata": {},
     "output_type": "execute_result"
    }
   ],
   "source": [
    "svm_pred = model.predict(X_test)\n",
    "svm_pred"
   ]
  },
  {
   "cell_type": "code",
   "execution_count": 10,
   "metadata": {
    "colab": {
     "base_uri": "https://localhost:8080/"
    },
    "id": "MyaiqYpFYNeq",
    "outputId": "21c4d276-9e20-49df-8d75-b2b3947cfc05"
   },
   "outputs": [
    {
     "data": {
      "text/plain": [
       "0.875"
      ]
     },
     "execution_count": 10,
     "metadata": {},
     "output_type": "execute_result"
    }
   ],
   "source": [
    "accuracy = model.score(X_test, y_test)\n",
    "accuracy"
   ]
  },
  {
   "cell_type": "code",
   "execution_count": 11,
   "metadata": {
    "colab": {
     "base_uri": "https://localhost:8080/",
     "height": 334
    },
    "id": "LRmyortfYNg_",
    "outputId": "d5810f30-26c2-4836-ac1e-79cab3538fa9"
   },
   "outputs": [
    {
     "ename": "ImportError",
     "evalue": "cannot import name 'classification_accuracy_score' from 'sklearn.metrics' (C:\\Users\\Rohit Kumar\\anaconda3\\lib\\site-packages\\sklearn\\metrics\\__init__.py)",
     "output_type": "error",
     "traceback": [
      "\u001b[1;31m---------------------------------------------------------------------------\u001b[0m",
      "\u001b[1;31mImportError\u001b[0m                               Traceback (most recent call last)",
      "Input \u001b[1;32mIn [11]\u001b[0m, in \u001b[0;36m<cell line: 1>\u001b[1;34m()\u001b[0m\n\u001b[1;32m----> 1\u001b[0m \u001b[38;5;28;01mfrom\u001b[39;00m \u001b[38;5;21;01msklearn\u001b[39;00m\u001b[38;5;21;01m.\u001b[39;00m\u001b[38;5;21;01mmetrics\u001b[39;00m \u001b[38;5;28;01mimport\u001b[39;00m accuracy_score,classification_accuracy_score\n\u001b[0;32m      2\u001b[0m (y_pred, y_test)\n",
      "\u001b[1;31mImportError\u001b[0m: cannot import name 'classification_accuracy_score' from 'sklearn.metrics' (C:\\Users\\Rohit Kumar\\anaconda3\\lib\\site-packages\\sklearn\\metrics\\__init__.py)"
     ]
    }
   ],
   "source": [
    "from sklearn.metrics import accuracy_score,classification_accuracy_score\n",
    "(y_pred, y_test)"
   ]
  },
  {
   "cell_type": "code",
   "execution_count": null,
   "metadata": {
    "id": "7avlXiMw_LSn"
   },
   "outputs": [],
   "source": [
    "print(classification_report(y_pred,y_test))"
   ]
  },
  {
   "cell_type": "code",
   "execution_count": null,
   "metadata": {
    "id": "_IsJAh0R_LV7"
   },
   "outputs": [],
   "source": []
  },
  {
   "cell_type": "code",
   "execution_count": null,
   "metadata": {
    "id": "tIlsnJ56YNku"
   },
   "outputs": [],
   "source": [
    "plt.figure(figsize = (6,6))\n",
    "sb.heatmap(cm, annot = True)\n",
    "plt.xlabel('Predicted')\n",
    "plt.ylabel('Truth')"
   ]
  },
  {
   "cell_type": "code",
   "execution_count": null,
   "metadata": {
    "id": "rm_Tk6EJJvju"
   },
   "outputs": [],
   "source": []
  }
 ],
 "metadata": {
  "colab": {
   "provenance": []
  },
  "kernelspec": {
   "display_name": "Python 3 (ipykernel)",
   "language": "python",
   "name": "python3"
  },
  "language_info": {
   "codemirror_mode": {
    "name": "ipython",
    "version": 3
   },
   "file_extension": ".py",
   "mimetype": "text/x-python",
   "name": "python",
   "nbconvert_exporter": "python",
   "pygments_lexer": "ipython3",
   "version": "3.9.12"
  }
 },
 "nbformat": 4,
 "nbformat_minor": 1
}
